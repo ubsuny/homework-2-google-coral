{
 "cells": [
  {
   "cell_type": "markdown",
   "metadata": {},
   "source": [
    "# HW 2 Writeup\n",
    "\n",
    "## P1\n",
    "\n",
    "In order to calculate the cubic and quartic perturbations, I added class objects representing the coefficients in the QHO. I then looped over a list containing the appropriate values and generated plots following the example.\n",
    "\n",
    "## P2\n",
    "\n",
    "After setting appropriate parameters for the problem, I ran and plotted the jacobi and exact solutions. The shape of the jacobi solution was correct, however it had a magnitude about 3 times larger than expected"
   ]
  },
  {
   "cell_type": "code",
   "execution_count": null,
   "metadata": {},
   "outputs": [],
   "source": []
  }
 ],
 "metadata": {
  "kernelspec": {
   "display_name": "Python 3",
   "language": "python",
   "name": "python3"
  },
  "language_info": {
   "codemirror_mode": {
    "name": "ipython",
    "version": 3
   },
   "file_extension": ".py",
   "mimetype": "text/x-python",
   "name": "python",
   "nbconvert_exporter": "python",
   "pygments_lexer": "ipython3",
   "version": "3.7.3"
  }
 },
 "nbformat": 4,
 "nbformat_minor": 2
}
