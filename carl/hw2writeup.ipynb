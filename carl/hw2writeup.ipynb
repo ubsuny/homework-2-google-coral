{
 "cells": [
  {
   "cell_type": "markdown",
   "metadata": {},
   "source": [
    "# writeup for hw2\n",
    "\n",
    "## p1\n",
    "\n",
    "For calculating results with different perturbations, I added a variable called 'power' in the class then I can just set it to a specific value(2,3 or 4) and other parts of codes will be the same. Apparently, the cubic perturbation, due to the asymmetry, decreases energy levels while the quartic increases them, which could also be infered from the eigenfunctions plot.\n",
    "  \n",
    "## p2\n",
    "\n",
    "All I need to adjust is the parameters such as charge position and the density. Then for the exact solution, I can directly use the charge distribution density equation for point charge and make the plot. Compared with the exact solution, the Jacobi method successfully describe the shape of the density function while the scale is not matching the actual situation."
   ]
  }
 ],
 "metadata": {
  "kernelspec": {
   "display_name": "Python 3",
   "language": "python",
   "name": "python3"
  },
  "language_info": {
   "codemirror_mode": {
    "name": "ipython",
    "version": 3
   },
   "file_extension": ".py",
   "mimetype": "text/x-python",
   "name": "python",
   "nbconvert_exporter": "python",
   "pygments_lexer": "ipython3",
   "version": "3.8.5"
  }
 },
 "nbformat": 4,
 "nbformat_minor": 4
}
